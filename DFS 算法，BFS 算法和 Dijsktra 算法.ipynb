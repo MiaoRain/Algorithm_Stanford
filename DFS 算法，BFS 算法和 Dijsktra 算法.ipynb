{
 "cells": [
  {
   "cell_type": "markdown",
   "metadata": {},
   "source": [
    "BFS 算法："
   ]
  },
  {
   "cell_type": "code",
   "execution_count": 33,
   "metadata": {},
   "outputs": [],
   "source": [
    "def BFS(graph, s):\n",
    "    queue = []\n",
    "    queue.append(s)\n",
    "    seen = set()\n",
    "    seen.add(s)\n",
    "    parent = {s:s}\n",
    "    while len(queue) > 0:\n",
    "        vertex = queue.pop(0)\n",
    "        nodes = graph[vertex]\n",
    "        for v in nodes:\n",
    "            if v not in seen:\n",
    "                queue.append(v)\n",
    "                seen.add(v)\n",
    "                parent[v] = vertex\n",
    "    return(parent)"
   ]
  },
  {
   "cell_type": "markdown",
   "metadata": {},
   "source": [
    "测试的例子。"
   ]
  },
  {
   "cell_type": "code",
   "execution_count": 34,
   "metadata": {},
   "outputs": [
    {
     "data": {
      "text/plain": [
       "{'A': 'A', 'B': 'A', 'C': 'A', 'D': 'B', 'E': 'C', 'F': 'D'}"
      ]
     },
     "execution_count": 34,
     "metadata": {},
     "output_type": "execute_result"
    }
   ],
   "source": [
    "graph = {\"A\":[\"B\",\"C\"], \"B\":[\"A\",\"C\",\"D\"], \"C\":[\"A\",\"B\",\"D\",\"E\"], \"D\":[\"B\",\"C\",\"E\",\"F\"], \"E\":[\"C\",\"D\"], \"F\":[\"D\"]}\n",
    "BFS(graph, \"A\")"
   ]
  },
  {
   "cell_type": "code",
   "execution_count": 41,
   "metadata": {},
   "outputs": [],
   "source": [
    "def DFS(graph, s):\n",
    "    stack = []\n",
    "    stack.append(s)\n",
    "    seen = set()\n",
    "    seen.add(s)\n",
    "    parent = {s:s}\n",
    "    while len(stack) > 0:\n",
    "        vertex = stack.pop()\n",
    "        nodes = graph[vertex]\n",
    "        for v in nodes:\n",
    "            if v not in seen:\n",
    "                stack.append(v)\n",
    "                seen.add(v)\n",
    "                parent[v] = vertex\n",
    "    return(parent)"
   ]
  },
  {
   "cell_type": "code",
   "execution_count": 42,
   "metadata": {},
   "outputs": [
    {
     "data": {
      "text/plain": [
       "{'A': 'A', 'B': 'A', 'C': 'A', 'D': 'C', 'E': 'C', 'F': 'D'}"
      ]
     },
     "execution_count": 42,
     "metadata": {},
     "output_type": "execute_result"
    }
   ],
   "source": [
    "graph = {\"A\":[\"B\",\"C\"], \"B\":[\"A\",\"C\",\"D\"], \"C\":[\"A\",\"B\",\"D\",\"E\"], \"D\":[\"B\",\"C\",\"E\",\"F\"], \"E\":[\"C\",\"D\"], \"F\":[\"D\"]}\n",
    "DFS(graph, \"A\")"
   ]
  },
  {
   "cell_type": "markdown",
   "metadata": {},
   "source": [
    "Dijksta 算法"
   ]
  },
  {
   "cell_type": "code",
   "execution_count": 7,
   "metadata": {},
   "outputs": [],
   "source": [
    "import heapq\n",
    "import math\n",
    "\n",
    "def dijksta(graph, s):\n",
    "    pqueue = []\n",
    "    heapq.heappush(pqueue, (0, s))\n",
    "    seen = set()\n",
    "    parent = {s:s}\n",
    "    distance = {s:0}\n",
    "    \n",
    "    while len(pqueue) > 0:\n",
    "        pair = heapq.heappop(pqueue)\n",
    "        dist = pair[0]\n",
    "        vertex = pair[1]\n",
    "        seen.add(vertex)\n",
    "        nodes = graph[vertex].keys()\n",
    "        \n",
    "        for v in nodes:\n",
    "            if v not in seen:\n",
    "                distance.setdefault(v, math.inf)\n",
    "                if graph[vertex][v] + dist < distance[v]:\n",
    "                    heapq.heappush(pqueue, (graph[vertex][v] + dist, v))\n",
    "                    parent[v] = vertex\n",
    "                    distance[v] = graph[vertex][v] + dist\n",
    "    return(parent, distance)\n",
    "                "
   ]
  },
  {
   "cell_type": "code",
   "execution_count": 8,
   "metadata": {},
   "outputs": [
    {
     "data": {
      "text/plain": [
       "({'A': 'A', 'B': 'C', 'C': 'A', 'D': 'B', 'E': 'D', 'F': 'D'},\n",
       " {'A': 0, 'B': 3, 'C': 1, 'D': 4, 'E': 7, 'F': 10})"
      ]
     },
     "execution_count": 8,
     "metadata": {},
     "output_type": "execute_result"
    }
   ],
   "source": [
    "import heapq\n",
    "import math\n",
    "graph = {\"A\":{\"B\":5, \"C\":1}, \"B\":{\"A\":5, \"C\":2, \"D\":1}, \"C\":{\"A\":1, \"B\":2, \"D\":4, \"E\":8}, \n",
    "         \"D\":{\"B\":1, \"C\":4, \"E\":3, \"F\":6},  \"E\":{\"C\":8, \"D\":3}, \"F\":{\"D\":6}}\n",
    "dijksta(graph, \"A\")"
   ]
  }
 ],
 "metadata": {
  "kernelspec": {
   "display_name": "Python 3",
   "language": "python",
   "name": "python3"
  },
  "language_info": {
   "codemirror_mode": {
    "name": "ipython",
    "version": 3
   },
   "file_extension": ".py",
   "mimetype": "text/x-python",
   "name": "python",
   "nbconvert_exporter": "python",
   "pygments_lexer": "ipython3",
   "version": "3.7.0"
  }
 },
 "nbformat": 4,
 "nbformat_minor": 2
}
