{
 "cells": [
  {
   "cell_type": "markdown",
   "metadata": {},
   "source": [
    "给出归并算法的程序，输入是一组需要排序的集合（常见的是数），输出是排序过的集合。"
   ]
  },
  {
   "cell_type": "code",
   "execution_count": 25,
   "metadata": {},
   "outputs": [],
   "source": [
    "def merge_sort(alist):\n",
    "    n = len(alist)\n",
    "    if n <= 1:\n",
    "        return(alist)\n",
    "    \n",
    "    mid = n // 2\n",
    "    \n",
    "    # 依次将 alist 中的元素对半分，分别放在 left_li 和 right_li 中\n",
    "    # 递归 merge_sort 函数，直到列表中只有一个元素时，返回该元素，并进行下面的 while 循环\n",
    "    \n",
    "    left_li = merge_sort(alist[:mid])\n",
    "    right_li = merge_sort(alist[mid:])\n",
    "    left_pointer, right_pointer = 0, 0\n",
    "    result = []\n",
    "    \n",
    "    # while 循环是将每一步中的已排好序的两个 list l_1 和 l_2 合并到 result 列表并排序，直到其中一个 list l_1 (或 l_2)全部并到 result 列表时终止循环\n",
    "    \n",
    "    while left_pointer < len(left_li) and right_pointer < len(right_li):\n",
    "        if left_li[left_pointer] < right_li[right_pointer]:\n",
    "            result.append(left_li[left_pointer])\n",
    "            left_pointer += 1\n",
    "        else:\n",
    "            result.append(right_li[right_pointer])\n",
    "            right_pointer += 1\n",
    "            \n",
    "    # 把另一个 list l_2中余下的元直接添加到 result 列表的最后（注：l_2 列表中的元都已排好序）\n",
    "    \n",
    "    result = result + left_li[left_pointer:]\n",
    "    result = result + right_li[right_pointer:]\n",
    "    \n",
    "    return(result)"
   ]
  },
  {
   "cell_type": "code",
   "execution_count": 26,
   "metadata": {},
   "outputs": [
    {
     "data": {
      "text/plain": [
       "[1, 2, 3, 5, 6, 7, 8, 9]"
      ]
     },
     "execution_count": 26,
     "metadata": {},
     "output_type": "execute_result"
    }
   ],
   "source": [
    "alist = [5,8,2,9,3,1,6,7]\n",
    "merge_sort(alist)"
   ]
  },
  {
   "cell_type": "markdown",
   "metadata": {},
   "source": [
    "参考资料：\n",
    "https://stackoverflow.com/questions/14733119/counting-inversions-using-merge-sort"
   ]
  },
  {
   "cell_type": "code",
   "execution_count": 2,
   "metadata": {},
   "outputs": [],
   "source": [
    "def merge_list(left,right):\n",
    "    result = list()\n",
    "    i, j = 0, 0\n",
    "    inv_count = 0\n",
    "    \n",
    "    while i < len(left) and j < len(right):\n",
    "        if left[i] < right[j]:\n",
    "            result.append(left[i])\n",
    "            i += 1\n",
    "        elif right[j] < left[i]:\n",
    "            result.append(right[j])\n",
    "            j += 1\n",
    "            inv_count += (len(left) - i)\n",
    "    \n",
    "    result += left[i:]\n",
    "    result += right[j:]\n",
    "    return(result,inv_count)\n",
    "\n",
    "\n",
    "def sort_and_inv(alist):\n",
    "    if len(alist) < 2:\n",
    "        return(alist, 0)\n",
    "    \n",
    "    middle = len(alist) // 2\n",
    "    \n",
    "    left_li,inv_left = sort_and_inv(alist[:middle])\n",
    "    right_li,inv_right = sort_and_inv(alist[middle:])\n",
    "    \n",
    "    merged, counter = merge_list(left_li,right_li)\n",
    "    counter += (inv_left + inv_right)\n",
    "    return(merged, counter)"
   ]
  },
  {
   "cell_type": "markdown",
   "metadata": {},
   "source": [
    "斯坦福算法公开课第一周的题目就用归并算法的变型：\n",
    "\n",
    "Algorithms: Design and Analysis\n",
    "\n",
    "Programming Question 1\n",
    "1/1分（分级）\n",
    "Download the text file here. (Right click and select \"Save As...\")\n",
    "\n",
    "This file contains all of the 100,000 integers between 1 and 100,000 (inclusive) in some order, with no integer repeated.\n",
    "\n",
    "Your task is to compute the number of inversions in the file given, where the ith row of the file indicates the ith entry of an array.\n",
    "\n",
    "Because of the large size of this array, you should implement the fast divide-and-conquer algorithm covered in the video lectures.\n",
    "\n",
    "The numeric answer for the given input file should be typed in the space below.\n",
    "\n",
    "So if your answer is 1198233847, then just type 1198233847 in the space provided without any spaces or commas or any other punctuation marks. You can make up to 5 attempts.\n",
    "\n",
    "(We do not require you to submit your code, so feel free to use any programming language you want --- just type the final numeric answer in the following space.)"
   ]
  },
  {
   "cell_type": "code",
   "execution_count": 53,
   "metadata": {
    "scrolled": false
   },
   "outputs": [
    {
     "data": {
      "text/plain": [
       "2407905288"
      ]
     },
     "execution_count": 53,
     "metadata": {},
     "output_type": "execute_result"
    }
   ],
   "source": [
    "with open('IntegerArray.txt') as f:\n",
    "        content = f.readlines()\n",
    "s = [int(x.strip()) for x in content]\n",
    "sort_and_inv(s)[1]"
   ]
  }
 ],
 "metadata": {
  "kernelspec": {
   "display_name": "Python 3",
   "language": "python",
   "name": "python3"
  },
  "language_info": {
   "codemirror_mode": {
    "name": "ipython",
    "version": 3
   },
   "file_extension": ".py",
   "mimetype": "text/x-python",
   "name": "python",
   "nbconvert_exporter": "python",
   "pygments_lexer": "ipython3",
   "version": "3.7.0"
  }
 },
 "nbformat": 4,
 "nbformat_minor": 2
}
